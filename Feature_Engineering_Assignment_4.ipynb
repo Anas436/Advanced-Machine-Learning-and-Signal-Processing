{
  "cells": [
    {
      "metadata": {
        "id": "-ez0ekno-q_M"
      },
      "cell_type": "markdown",
      "source": [
        "# PLEASE NOTE: Please run this notebook OUTSIDE a Spark notebook as it should run in a plain Python 3.9 XS Environment (2 vCPU) Environment\n",
        "\n",
        "This is the last assignment for the Coursera course \"Advanced Machine Learning and Signal Processing\"\n",
        "\n",
        "Just execute all cells one after the other and you are done - just note that in the last one you should update your email address (the one you've used for coursera) and obtain a submission token, you get this from the programming assignment directly on coursera.\n",
        "\n",
        "Please fill in the sections labelled with \"###YOUR_CODE_GOES_HERE###\"\n",
        "\n",
        "The purpose of this assignment is to learn how feature engineering boosts model performance. You will apply Discrete Fourier Transformation on the accelerometer sensor time series and therefore transforming the dataset from the time to the frequency domain. \n",
        "\n",
        "After that, you’ll use a classification algorithm of your choice to create a model and submit the new predictions to the grader. Done.\n",
        "\n"
      ]
    },
    {
      "metadata": {
        "colab": {
          "base_uri": "https://localhost:8080/",
          "height": 70
        },
        "id": "pc1imtY9-q_Q",
        "outputId": "05ca6ca2-b135-49c3-ea80-ba4efcd81277"
      },
      "cell_type": "code",
      "source": [
        "\"\"\"\n",
        "from IPython.display import Markdown, display\n",
        "def printmd(string):\n",
        "    display(Markdown('# <span style=\"color:red\">'+string+'</span>'))\n",
        "\n",
        "\n",
        "if ('sc' in locals() or 'sc' in globals()):\n",
        "    printmd('<<<<<!!!!! It seems that you are running in a IBM Watson Studio Apache Spark Notebook. Please run it in an IBM Watson Studio Default Runtime (without Apache Spark) !!!!!>>>>>')\n",
        "    \n",
        "\"\"\""
      ],
      "execution_count": 1,
      "outputs": [
        {
          "output_type": "execute_result",
          "data": {
            "text/plain": [
              "'\\nfrom IPython.display import Markdown, display\\ndef printmd(string):\\n    display(Markdown(\\'# <span style=\"color:red\">\\'+string+\\'</span>\\'))\\n\\n\\nif (\\'sc\\' in locals() or \\'sc\\' in globals()):\\n    printmd(\\'<<<<<!!!!! It seems that you are running in a IBM Watson Studio Apache Spark Notebook. Please run it in an IBM Watson Studio Default Runtime (without Apache Spark) !!!!!>>>>>\\')\\n    \\n'"
            ],
            "application/vnd.google.colaboratory.intrinsic+json": {
              "type": "string"
            }
          },
          "metadata": {},
          "execution_count": 1
        }
      ]
    },
    {
      "metadata": {
        "colab": {
          "base_uri": "https://localhost:8080/"
        },
        "id": "zv7riFqj-q_S",
        "outputId": "241fc860-48c8-419a-a232-52d40f19c189"
      },
      "cell_type": "code",
      "source": [
        "!pip install pyspark==3.2.1 systemds==2.2.1"
      ],
      "execution_count": 2,
      "outputs": [
        {
          "output_type": "stream",
          "name": "stdout",
          "text": [
            "Looking in indexes: https://pypi.org/simple, https://us-python.pkg.dev/colab-wheels/public/simple/\n",
            "Collecting pyspark==3.2.1\n",
            "  Downloading pyspark-3.2.1.tar.gz (281.4 MB)\n",
            "\u001b[2K     \u001b[90m━━━━━━━━━━━━━━━━━━━━━━━━━━━━━━━━━━━━━━━\u001b[0m \u001b[32m281.4/281.4 MB\u001b[0m \u001b[31m4.3 MB/s\u001b[0m eta \u001b[36m0:00:00\u001b[0m\n",
            "\u001b[?25h  Preparing metadata (setup.py) ... \u001b[?25l\u001b[?25hdone\n",
            "Collecting systemds==2.2.1\n",
            "  Downloading systemds-2.2.1-py3-none-any.whl (50.9 MB)\n",
            "\u001b[2K     \u001b[90m━━━━━━━━━━━━━━━━━━━━━━━━━━━━━━━━━━━━━━━━\u001b[0m \u001b[32m50.9/50.9 MB\u001b[0m \u001b[31m11.4 MB/s\u001b[0m eta \u001b[36m0:00:00\u001b[0m\n",
            "\u001b[?25hCollecting py4j==0.10.9.3\n",
            "  Downloading py4j-0.10.9.3-py2.py3-none-any.whl (198 kB)\n",
            "\u001b[2K     \u001b[90m━━━━━━━━━━━━━━━━━━━━━━━━━━━━━━━━━━━━━━\u001b[0m \u001b[32m199.0/199.0 KB\u001b[0m \u001b[31m19.0 MB/s\u001b[0m eta \u001b[36m0:00:00\u001b[0m\n",
            "\u001b[?25hRequirement already satisfied: pandas>=1.2.2 in /usr/local/lib/python3.8/dist-packages (from systemds==2.2.1) (1.3.5)\n",
            "Requirement already satisfied: requests>=2.24.0 in /usr/local/lib/python3.8/dist-packages (from systemds==2.2.1) (2.25.1)\n",
            "Requirement already satisfied: numpy>=1.8.2 in /usr/local/lib/python3.8/dist-packages (from systemds==2.2.1) (1.22.4)\n",
            "Requirement already satisfied: python-dateutil>=2.7.3 in /usr/local/lib/python3.8/dist-packages (from pandas>=1.2.2->systemds==2.2.1) (2.8.2)\n",
            "Requirement already satisfied: pytz>=2017.3 in /usr/local/lib/python3.8/dist-packages (from pandas>=1.2.2->systemds==2.2.1) (2022.7.1)\n",
            "Requirement already satisfied: urllib3<1.27,>=1.21.1 in /usr/local/lib/python3.8/dist-packages (from requests>=2.24.0->systemds==2.2.1) (1.24.3)\n",
            "Requirement already satisfied: idna<3,>=2.5 in /usr/local/lib/python3.8/dist-packages (from requests>=2.24.0->systemds==2.2.1) (2.10)\n",
            "Requirement already satisfied: certifi>=2017.4.17 in /usr/local/lib/python3.8/dist-packages (from requests>=2.24.0->systemds==2.2.1) (2022.12.7)\n",
            "Requirement already satisfied: chardet<5,>=3.0.2 in /usr/local/lib/python3.8/dist-packages (from requests>=2.24.0->systemds==2.2.1) (4.0.0)\n",
            "Requirement already satisfied: six>=1.5 in /usr/local/lib/python3.8/dist-packages (from python-dateutil>=2.7.3->pandas>=1.2.2->systemds==2.2.1) (1.15.0)\n",
            "Building wheels for collected packages: pyspark\n",
            "  Building wheel for pyspark (setup.py) ... \u001b[?25l\u001b[?25hdone\n",
            "  Created wheel for pyspark: filename=pyspark-3.2.1-py2.py3-none-any.whl size=281853643 sha256=fbf7ebd90cd2d8412dc858903b3e7e3362c903e1c70dfa6b20b2da3f2d8d8c70\n",
            "  Stored in directory: /root/.cache/pip/wheels/58/94/83/915c9059e4b038e2d43a6058f307fe1c3e8536e5745f3b23b7\n",
            "Successfully built pyspark\n",
            "Installing collected packages: py4j, pyspark, systemds\n",
            "Successfully installed py4j-0.10.9.3 pyspark-3.2.1 systemds-2.2.1\n"
          ]
        }
      ]
    },
    {
      "metadata": {
        "id": "DExcHfz0-q_T"
      },
      "cell_type": "code",
      "source": [
        "from pyspark import SparkContext, SparkConf\n",
        "from pyspark.sql import SQLContext, SparkSession\n",
        "from pyspark.sql.types import StructType, StructField, DoubleType, IntegerType, StringType\n",
        "sc = SparkContext.getOrCreate(SparkConf().setMaster(\"local[*]\"))\n",
        "from pyspark.sql import SparkSession\n",
        "spark = SparkSession \\\n",
        "    .builder \\\n",
        "    .getOrCreate()"
      ],
      "execution_count": 3,
      "outputs": []
    },
    {
      "metadata": {
        "id": "ZpwVjaaU-q_U"
      },
      "cell_type": "markdown",
      "source": [
        "\n",
        "So the first thing we need to ensure is that we are on the latest version of SystemML, which is 1.3.0 (as of 20th March'19) Please use the code block below to check if you are already on 1.3.0 or higher. 1.3 contains a necessary fix, that's we are running against the SNAPSHOT\n"
      ]
    },
    {
      "metadata": {
        "colab": {
          "base_uri": "https://localhost:8080/"
        },
        "id": "6irrkyYL-q_V",
        "outputId": "e439b9c6-f91f-4226-c4c5-d9819e953b85"
      },
      "cell_type": "code",
      "source": [
        "!wget https://github.com/IBM/coursera/blob/master/coursera_ml/shake.parquet?raw=true\n",
        "!mv shake.parquet?raw=true shake.parquet"
      ],
      "execution_count": 4,
      "outputs": [
        {
          "output_type": "stream",
          "name": "stdout",
          "text": [
            "--2023-02-26 15:29:43--  https://github.com/IBM/coursera/blob/master/coursera_ml/shake.parquet?raw=true\n",
            "Resolving github.com (github.com)... 192.30.255.112\n",
            "Connecting to github.com (github.com)|192.30.255.112|:443... connected.\n",
            "HTTP request sent, awaiting response... 301 Moved Permanently\n",
            "Location: https://github.com/claimed-framework/component-library/blob/master/coursera_ml/shake.parquet?raw=true [following]\n",
            "--2023-02-26 15:29:43--  https://github.com/claimed-framework/component-library/blob/master/coursera_ml/shake.parquet?raw=true\n",
            "Reusing existing connection to github.com:443.\n",
            "HTTP request sent, awaiting response... 302 Found\n",
            "Location: https://github.com/claimed-framework/component-library/raw/master/coursera_ml/shake.parquet [following]\n",
            "--2023-02-26 15:29:43--  https://github.com/claimed-framework/component-library/raw/master/coursera_ml/shake.parquet\n",
            "Reusing existing connection to github.com:443.\n",
            "HTTP request sent, awaiting response... 302 Found\n",
            "Location: https://raw.githubusercontent.com/claimed-framework/component-library/master/coursera_ml/shake.parquet [following]\n",
            "--2023-02-26 15:29:43--  https://raw.githubusercontent.com/claimed-framework/component-library/master/coursera_ml/shake.parquet\n",
            "Resolving raw.githubusercontent.com (raw.githubusercontent.com)... 185.199.108.133, 185.199.109.133, 185.199.110.133, ...\n",
            "Connecting to raw.githubusercontent.com (raw.githubusercontent.com)|185.199.108.133|:443... connected.\n",
            "HTTP request sent, awaiting response... 200 OK\n",
            "Length: 74727 (73K) [application/octet-stream]\n",
            "Saving to: ‘shake.parquet?raw=true’\n",
            "\n",
            "shake.parquet?raw=t 100%[===================>]  72.98K  --.-KB/s    in 0.007s  \n",
            "\n",
            "2023-02-26 15:29:43 (9.69 MB/s) - ‘shake.parquet?raw=true’ saved [74727/74727]\n",
            "\n"
          ]
        }
      ]
    },
    {
      "metadata": {
        "id": "gLv2z7MA-q_W"
      },
      "cell_type": "markdown",
      "source": [
        "Now it’s time to read the sensor data and create a temporary query table."
      ]
    },
    {
      "metadata": {
        "id": "RA4mEWd1-q_W"
      },
      "cell_type": "code",
      "source": [
        "df=spark.read.parquet('shake.parquet')"
      ],
      "execution_count": 5,
      "outputs": []
    },
    {
      "metadata": {
        "colab": {
          "base_uri": "https://localhost:8080/"
        },
        "id": "5y-8wWFZ-q_X",
        "outputId": "8f3464ab-7f48-46cb-e258-7f9e0bab8a43"
      },
      "cell_type": "code",
      "source": [
        "df.show()"
      ],
      "execution_count": 6,
      "outputs": [
        {
          "output_type": "stream",
          "name": "stdout",
          "text": [
            "+-----+---------+-----+-----+-----+\n",
            "|CLASS| SENSORID|    X|    Y|    Z|\n",
            "+-----+---------+-----+-----+-----+\n",
            "|    2| qqqqqqqq| 0.12| 0.12| 0.12|\n",
            "|    2|aUniqueID| 0.03| 0.03| 0.03|\n",
            "|    2| qqqqqqqq|-3.84|-3.84|-3.84|\n",
            "|    2| 12345678| -0.1| -0.1| -0.1|\n",
            "|    2| 12345678|-0.15|-0.15|-0.15|\n",
            "|    2| 12345678| 0.47| 0.47| 0.47|\n",
            "|    2| 12345678|-0.06|-0.06|-0.06|\n",
            "|    2| 12345678|-0.09|-0.09|-0.09|\n",
            "|    2| 12345678| 0.21| 0.21| 0.21|\n",
            "|    2| 12345678|-0.08|-0.08|-0.08|\n",
            "|    2| 12345678| 0.44| 0.44| 0.44|\n",
            "|    2|    gholi| 0.76| 0.76| 0.76|\n",
            "|    2|    gholi| 1.62| 1.62| 1.62|\n",
            "|    2|    gholi| 5.81| 5.81| 5.81|\n",
            "|    2| bcbcbcbc| 0.58| 0.58| 0.58|\n",
            "|    2| bcbcbcbc|-8.24|-8.24|-8.24|\n",
            "|    2| bcbcbcbc|-0.45|-0.45|-0.45|\n",
            "|    2| bcbcbcbc| 1.03| 1.03| 1.03|\n",
            "|    2|aUniqueID|-0.05|-0.05|-0.05|\n",
            "|    2| qqqqqqqq|-0.44|-0.44|-0.44|\n",
            "+-----+---------+-----+-----+-----+\n",
            "only showing top 20 rows\n",
            "\n"
          ]
        }
      ]
    },
    {
      "metadata": {
        "id": "D-_vvzbt-q_X"
      },
      "cell_type": "code",
      "source": [
        "df.createOrReplaceTempView(\"df\")"
      ],
      "execution_count": 7,
      "outputs": []
    },
    {
      "metadata": {
        "id": "LO_v0RjZ-q_X"
      },
      "cell_type": "markdown",
      "source": [
        "We’ll use Apache SystemML to implement Discrete Fourier Transformation. This way all computation continues to happen on the Apache Spark cluster for advanced scalability and performance."
      ]
    },
    {
      "metadata": {
        "id": "wdvCWx9H-q_Y"
      },
      "cell_type": "markdown",
      "source": [
        "As you’ve learned from the lecture, implementing Discrete Fourier Transformation in a linear algebra programming language is simple. Apache SystemML DML is such a language and as you can see the implementation is straightforward and doesn’t differ too much from the mathematical definition (Just note that the sum operator has been swapped with a vector dot product using the %*% syntax borrowed from R\n",
        "):\n",
        "\n",
        "<img style=\"float: left;\" src=\"https://wikimedia.org/api/rest_v1/media/math/render/svg/1af0a78dc50bbf118ab6bd4c4dcc3c4ff8502223\">\n",
        "\n"
      ]
    },
    {
      "metadata": {
        "id": "kIdxlwPO-q_Y"
      },
      "cell_type": "code",
      "source": [
        "from pyspark.sql.functions import monotonically_increasing_id\n",
        "from systemds.context import SystemDSContext\n",
        "import numpy as np\n",
        "import pandas as pd\n",
        "\n",
        "def dft_systemds(signal,name):\n",
        "\n",
        "\n",
        "    with SystemDSContext(spark) as sds:\n",
        "        size = signal.count()  \n",
        "        signal = sds.from_numpy(signal.toPandas().to_numpy())\n",
        "        pi = sds.scalar(3.141592654)\n",
        "\n",
        "        n = sds.seq(0,size-1)\n",
        "        k = sds.seq(0,size-1)\n",
        "\n",
        "        M = (n @ (k.t())) * (2*pi/size)\n",
        "        \n",
        "        Xa = M.cos() @ signal\n",
        "        Xb = M.sin() @ signal\n",
        "\n",
        "        index = (list(map(lambda x: [x],np.array(range(0, size, 1)))))\n",
        "        DFT = np.hstack((index,Xa.cbind(Xb).compute()))\n",
        "        DFT_pdf = pd.DataFrame(DFT, columns=list([\"id\",name+'_sin',name+'_cos']))\n",
        "        DFT_df = spark.createDataFrame(DFT_pdf)\n",
        "        return DFT_df\n",
        "\n"
      ],
      "execution_count": 8,
      "outputs": []
    },
    {
      "metadata": {
        "id": "lcS7-wgD-q_Y"
      },
      "cell_type": "markdown",
      "source": [
        "Now it’s time to create a function which takes a single row Apache Spark data frame as argument (the one containing the accelerometer measurement time series for one axis) and returns the Fourier transformation of it. In addition, we are adding an index column for later joining all axis together and renaming the columns to appropriate names. The result of this function is an Apache Spark DataFrame containing the Fourier Transformation of its input in two columns. \n"
      ]
    },
    {
      "metadata": {
        "id": "a1HmMwV0-q_Z"
      },
      "cell_type": "markdown",
      "source": [
        "Now it’s time to create individual DataFrames containing only a subset of the data. We filter simultaneously for accelerometer each sensor axis and one for each class. This means you’ll get 6 DataFrames. Please implement this using the relational API of DataFrames or SparkSQL. Please use class 1 and 2 and not 0 and 1. <h1><span style=\"color:red\">Please make sure that each DataFrame has only ONE colum (only the measurement, eg. not CLASS column)</span></h1>\n"
      ]
    },
    {
      "metadata": {
        "id": "MhrivHFo-q_Z"
      },
      "cell_type": "code",
      "source": [
        "\"\"\"\n",
        "x0 = ###YOUR_CODE_GOES_HERE### => Please create a DataFrame containing only measurements of class 0 from the x axis\n",
        "y0 = ###YOUR_CODE_GOES_HERE### => Please create a DataFrame containing only measurements of class 0 from the y axis\n",
        "z0 = ###YOUR_CODE_GOES_HERE### => Please create a DataFrame containing only measurements of class 0 from the z axis\n",
        "x1 = ###YOUR_CODE_GOES_HERE### => Please create a DataFrame containing only measurements of class 1 from the x axis\n",
        "y1 = ###YOUR_CODE_GOES_HERE### => Please create a DataFrame containing only measurements of class 1 from the y axis\n",
        "z1 = ###YOUR_CODE_GOES_HERE### => Please create a DataFrame containing only measurements of class 1 from the z axis\n",
        "\n",
        "\"\"\"\n",
        "x0 = spark.sql(\"SELECT X from df where class = 0\")\n",
        "y0 = spark.sql(\"SELECT Y from df where class = 0\")\n",
        "z0 = spark.sql(\"SELECT Z from df where class = 0\")\n",
        "x1 = spark.sql(\"SELECT X from df where class = 1\")\n",
        "y1 = spark.sql(\"SELECT Y from df where class = 1\")\n",
        "z1 = spark.sql(\"SELECT Z from df where class = 1\")"
      ],
      "execution_count": 9,
      "outputs": []
    },
    {
      "metadata": {
        "id": "pxaTmCdN-q_a"
      },
      "cell_type": "markdown",
      "source": [
        "Since we’ve created this cool DFT function before, we can just call it for each of the 6 DataFrames now. And since the result of this function call is a DataFrame again we can use the pyspark best practice in simply calling methods on it sequentially. So what we are doing is the following:\n",
        "\n",
        "- Calling DFT for each class and accelerometer sensor axis.\n",
        "- Joining them together on the ID column. \n",
        "- Re-adding a column containing the class index.\n",
        "- Stacking both Dataframes for each classes together\n",
        "\n"
      ]
    },
    {
      "metadata": {
        "colab": {
          "base_uri": "https://localhost:8080/"
        },
        "id": "AH1i4Qo9-q_a",
        "outputId": "7247b02a-b623-4996-f726-572e84973a07"
      },
      "cell_type": "code",
      "source": [
        "from pyspark.sql.functions import lit\n",
        "\n",
        "df_class_0 = dft_systemds(x0,'x') \\\n",
        "    .join(dft_systemds(y0,'y'), on=['id'], how='inner') \\\n",
        "    .join(dft_systemds(z0,'z'), on=['id'], how='inner') \\\n",
        "    .withColumn('class', lit(0))\n",
        "    \n",
        "df_class_1 = dft_systemds(x1,'x') \\\n",
        "    .join(dft_systemds(y1,'y'), on=['id'], how='inner') \\\n",
        "    .join(dft_systemds(z1,'z'), on=['id'], how='inner') \\\n",
        "    .withColumn('class', lit(1))\n",
        "\n",
        "df_dft = df_class_0.union(df_class_1)\n",
        "\n",
        "df_dft.show()"
      ],
      "execution_count": 10,
      "outputs": [
        {
          "output_type": "stream",
          "name": "stdout",
          "text": [
            "+----+--------------------+--------------------+--------------------+--------------------+--------------------+--------------------+-----+\n",
            "|  id|               x_sin|               x_cos|               y_sin|               y_cos|               z_sin|               z_cos|class|\n",
            "+----+--------------------+--------------------+--------------------+--------------------+--------------------+--------------------+-----+\n",
            "| 0.0|                 0.0|                 0.0|                 0.0|                 0.0|                 0.0|                 0.0|    0|\n",
            "| 1.0|                 0.0|                 0.0|                 0.0|                 0.0|                 0.0|                 0.0|    0|\n",
            "| 4.0|                 0.0|                 0.0|                 0.0|                 0.0|                 0.0|                 0.0|    0|\n",
            "| 3.0|                 0.0|                 0.0|                 0.0|                 0.0|                 0.0|                 0.0|    0|\n",
            "| 2.0|                 0.0|                 0.0|                 0.0|                 0.0|                 0.0|                 0.0|    0|\n",
            "| 6.0|                 0.0|                 0.0|                 0.0|                 0.0|                 0.0|                 0.0|    0|\n",
            "| 5.0|                 0.0|                 0.0|                 0.0|                 0.0|                 0.0|                 0.0|    0|\n",
            "| 8.0|                 0.0|                 0.0|                 0.0|                 0.0|                 0.0|                 0.0|    0|\n",
            "| 7.0|                 0.0|                 0.0|                 0.0|                 0.0|                 0.0|                 0.0|    0|\n",
            "|11.0|                 0.0|                 0.0|                 0.0|                 0.0|                 0.0|                 0.0|    0|\n",
            "|10.0|                 0.0|                 0.0|                 0.0|                 0.0|                 0.0|                 0.0|    0|\n",
            "|13.0|                 0.0|                 0.0|                 0.0|                 0.0|                 0.0|                 0.0|    0|\n",
            "| 9.0|                 0.0|                 0.0|                 0.0|                 0.0|                 0.0|                 0.0|    0|\n",
            "|12.0|                 0.0|                 0.0|                 0.0|                 0.0|                 0.0|                 0.0|    0|\n",
            "| 8.0|0.007264897147586408|0.050779226648936575|0.007264897147586408|0.050779226648936575|0.007264897147586408|0.050779226648936575|    1|\n",
            "| 0.0|               -0.13|                 0.0|               -0.13|                 0.0|               -0.13|                 0.0|    1|\n",
            "| 7.0| 0.04362147198699657| 0.04661273969005281| 0.04362147198699657| 0.04661273969005281| 0.04362147198699657| 0.04661273969005281|    1|\n",
            "|49.0|-0.07768949082949561|0.039133460895471164|-0.07768949082949561|0.039133460895471164|-0.07768949082949561|0.039133460895471164|    1|\n",
            "|29.0|-0.10895275079055323|-0.04017484023996344|-0.10895275079055323|-0.04017484023996344|-0.10895275079055323|-0.04017484023996344|    1|\n",
            "|47.0|-0.00210545483171...|0.005169172060822...|-0.00210545483171...|0.005169172060822...|-0.00210545483171...|0.005169172060822...|    1|\n",
            "+----+--------------------+--------------------+--------------------+--------------------+--------------------+--------------------+-----+\n",
            "only showing top 20 rows\n",
            "\n"
          ]
        }
      ]
    },
    {
      "metadata": {
        "id": "w-v4q-gi-q_b"
      },
      "cell_type": "markdown",
      "source": [
        "Please create a VectorAssembler which consumes the newly created DFT columns and produces a column “features”\n"
      ]
    },
    {
      "metadata": {
        "id": "htQ0sF7o-q_b"
      },
      "cell_type": "code",
      "source": [
        "from pyspark.ml.feature import VectorAssembler"
      ],
      "execution_count": 11,
      "outputs": []
    },
    {
      "metadata": {
        "id": "Y67fHmO3-q_c"
      },
      "cell_type": "code",
      "source": [
        "#vectorAssembler = VectorAssembler(inputCols=[\"x_sin\", \"x_cos\", \"y_sin\", \" y_cos\", \"z_sin\", \"z_cos\"], outputCol=\"features\")\n",
        "vectorAssembler = VectorAssembler(inputCols=[\"x_sin\", \"x_cos\", \"y_sin\", \"y_cos\", \"z_sin\", \"z_cos\"], outputCol=\"features\")"
      ],
      "execution_count": 12,
      "outputs": []
    },
    {
      "metadata": {
        "id": "jse2B4ux-q_c"
      },
      "cell_type": "markdown",
      "source": [
        "Please insatiate a classifier from the SparkML package and assign it to the classifier variable. Make sure to set the “class” column as target.\n"
      ]
    },
    {
      "metadata": {
        "id": "OB3Tnm7R-q_c"
      },
      "cell_type": "code",
      "source": [
        "from pyspark.ml.classification import GBTClassifier\n",
        "from pyspark.ml.classification import RandomForestClassifier"
      ],
      "execution_count": 13,
      "outputs": []
    },
    {
      "metadata": {
        "id": "PJ3t9M-C-q_c"
      },
      "cell_type": "code",
      "source": [
        "classifier = RandomForestClassifier(labelCol=\"class\", featuresCol=\"features\", numTrees=10)"
      ],
      "execution_count": 14,
      "outputs": []
    },
    {
      "metadata": {
        "id": "R1-6cRD9-q_d"
      },
      "cell_type": "markdown",
      "source": [
        "Let’s train and evaluate…\n"
      ]
    },
    {
      "metadata": {
        "id": "V014_I3O-q_d"
      },
      "cell_type": "code",
      "source": [
        "from pyspark.ml import Pipeline\n",
        "pipeline = Pipeline(stages=[vectorAssembler, classifier])"
      ],
      "execution_count": 15,
      "outputs": []
    },
    {
      "metadata": {
        "id": "dhT8H_h5-q_d"
      },
      "cell_type": "code",
      "source": [
        "model = pipeline.fit(df_dft)"
      ],
      "execution_count": 16,
      "outputs": []
    },
    {
      "metadata": {
        "id": "WA_REhHe-q_d"
      },
      "cell_type": "code",
      "source": [
        "#prediction = fit.transform(df_dft)\n",
        "prediction = model.transform(df_dft)"
      ],
      "execution_count": 18,
      "outputs": []
    },
    {
      "metadata": {
        "colab": {
          "base_uri": "https://localhost:8080/"
        },
        "id": "_Nk1Gpmc-q_e",
        "outputId": "928cfd9e-e748-48a0-fcdd-8f47896b9b0e"
      },
      "cell_type": "code",
      "source": [
        "prediction.show()"
      ],
      "execution_count": 19,
      "outputs": [
        {
          "output_type": "stream",
          "name": "stdout",
          "text": [
            "+----+--------------------+--------------------+--------------------+--------------------+--------------------+--------------------+-----+--------------------+-------------+-----------+----------+\n",
            "|  id|               x_sin|               x_cos|               y_sin|               y_cos|               z_sin|               z_cos|class|            features|rawPrediction|probability|prediction|\n",
            "+----+--------------------+--------------------+--------------------+--------------------+--------------------+--------------------+-----+--------------------+-------------+-----------+----------+\n",
            "| 0.0|                 0.0|                 0.0|                 0.0|                 0.0|                 0.0|                 0.0|    0|           (6,[],[])|   [10.0,0.0]|  [1.0,0.0]|       0.0|\n",
            "| 1.0|                 0.0|                 0.0|                 0.0|                 0.0|                 0.0|                 0.0|    0|           (6,[],[])|   [10.0,0.0]|  [1.0,0.0]|       0.0|\n",
            "| 4.0|                 0.0|                 0.0|                 0.0|                 0.0|                 0.0|                 0.0|    0|           (6,[],[])|   [10.0,0.0]|  [1.0,0.0]|       0.0|\n",
            "| 3.0|                 0.0|                 0.0|                 0.0|                 0.0|                 0.0|                 0.0|    0|           (6,[],[])|   [10.0,0.0]|  [1.0,0.0]|       0.0|\n",
            "| 2.0|                 0.0|                 0.0|                 0.0|                 0.0|                 0.0|                 0.0|    0|           (6,[],[])|   [10.0,0.0]|  [1.0,0.0]|       0.0|\n",
            "| 6.0|                 0.0|                 0.0|                 0.0|                 0.0|                 0.0|                 0.0|    0|           (6,[],[])|   [10.0,0.0]|  [1.0,0.0]|       0.0|\n",
            "| 5.0|                 0.0|                 0.0|                 0.0|                 0.0|                 0.0|                 0.0|    0|           (6,[],[])|   [10.0,0.0]|  [1.0,0.0]|       0.0|\n",
            "| 8.0|                 0.0|                 0.0|                 0.0|                 0.0|                 0.0|                 0.0|    0|           (6,[],[])|   [10.0,0.0]|  [1.0,0.0]|       0.0|\n",
            "| 7.0|                 0.0|                 0.0|                 0.0|                 0.0|                 0.0|                 0.0|    0|           (6,[],[])|   [10.0,0.0]|  [1.0,0.0]|       0.0|\n",
            "|11.0|                 0.0|                 0.0|                 0.0|                 0.0|                 0.0|                 0.0|    0|           (6,[],[])|   [10.0,0.0]|  [1.0,0.0]|       0.0|\n",
            "|10.0|                 0.0|                 0.0|                 0.0|                 0.0|                 0.0|                 0.0|    0|           (6,[],[])|   [10.0,0.0]|  [1.0,0.0]|       0.0|\n",
            "|13.0|                 0.0|                 0.0|                 0.0|                 0.0|                 0.0|                 0.0|    0|           (6,[],[])|   [10.0,0.0]|  [1.0,0.0]|       0.0|\n",
            "| 9.0|                 0.0|                 0.0|                 0.0|                 0.0|                 0.0|                 0.0|    0|           (6,[],[])|   [10.0,0.0]|  [1.0,0.0]|       0.0|\n",
            "|12.0|                 0.0|                 0.0|                 0.0|                 0.0|                 0.0|                 0.0|    0|           (6,[],[])|   [10.0,0.0]|  [1.0,0.0]|       0.0|\n",
            "| 8.0|0.007264897147586408|0.050779226648936575|0.007264897147586408|0.050779226648936575|0.007264897147586408|0.050779226648936575|    1|[0.00726489714758...|   [0.0,10.0]|  [0.0,1.0]|       1.0|\n",
            "| 0.0|               -0.13|                 0.0|               -0.13|                 0.0|               -0.13|                 0.0|    1|[-0.13,0.0,-0.13,...|    [2.0,8.0]|  [0.2,0.8]|       1.0|\n",
            "| 7.0| 0.04362147198699657| 0.04661273969005281| 0.04362147198699657| 0.04661273969005281| 0.04362147198699657| 0.04661273969005281|    1|[0.04362147198699...|   [0.0,10.0]|  [0.0,1.0]|       1.0|\n",
            "|49.0|-0.07768949082949561|0.039133460895471164|-0.07768949082949561|0.039133460895471164|-0.07768949082949561|0.039133460895471164|    1|[-0.0776894908294...|   [0.0,10.0]|  [0.0,1.0]|       1.0|\n",
            "|29.0|-0.10895275079055323|-0.04017484023996344|-0.10895275079055323|-0.04017484023996344|-0.10895275079055323|-0.04017484023996344|    1|[-0.1089527507905...|   [0.0,10.0]|  [0.0,1.0]|       1.0|\n",
            "|47.0|-0.00210545483171...|0.005169172060822...|-0.00210545483171...|0.005169172060822...|-0.00210545483171...|0.005169172060822...|    1|[-0.0021054548317...|   [0.0,10.0]|  [0.0,1.0]|       1.0|\n",
            "+----+--------------------+--------------------+--------------------+--------------------+--------------------+--------------------+-----+--------------------+-------------+-----------+----------+\n",
            "only showing top 20 rows\n",
            "\n"
          ]
        }
      ]
    },
    {
      "metadata": {
        "colab": {
          "base_uri": "https://localhost:8080/"
        },
        "id": "FJKlSwUo-q_e",
        "outputId": "8b8f6f47-fbfc-45d1-8695-1687878c183d"
      },
      "cell_type": "code",
      "source": [
        "from pyspark.ml.evaluation import MulticlassClassificationEvaluator\n",
        "binEval = MulticlassClassificationEvaluator().setMetricName(\"accuracy\") .setPredictionCol(\"prediction\").setLabelCol(\"class\")\n",
        "    \n",
        "binEval.evaluate(prediction) "
      ],
      "execution_count": 20,
      "outputs": [
        {
          "output_type": "execute_result",
          "data": {
            "text/plain": [
              "1.0"
            ]
          },
          "metadata": {},
          "execution_count": 20
        }
      ]
    },
    {
      "metadata": {
        "id": "gLv3gku1-q_e"
      },
      "cell_type": "markdown",
      "source": [
        "If you are happy with the result (I’m happy with > 0.8) please submit your solution to the grader by executing the following cells, please don’t forget to obtain an assignment submission token (secret) from the Courera’s graders web page and paste it to the “secret” variable below, including your email address you’ve used for Coursera. \n"
      ]
    },
    {
      "metadata": {
        "id": "NXJ7xC0k-q_e"
      },
      "cell_type": "code",
      "source": [
        "!rm -Rf a2_m4.json"
      ],
      "execution_count": 21,
      "outputs": []
    },
    {
      "metadata": {
        "id": "QNyHAp7S-q_f"
      },
      "cell_type": "code",
      "source": [
        "prediction = prediction.repartition(1)\n",
        "prediction.write.json('a2_m4.json')"
      ],
      "execution_count": 22,
      "outputs": []
    },
    {
      "metadata": {
        "colab": {
          "base_uri": "https://localhost:8080/"
        },
        "id": "kviaNGwF-q_f",
        "outputId": "f00c4a32-03be-4914-d56c-0a6f4c987fa3"
      },
      "cell_type": "code",
      "source": [
        "!rm -f rklib.py\n",
        "!wget wget https://raw.githubusercontent.com/IBM/coursera/master/rklib.py"
      ],
      "execution_count": 23,
      "outputs": [
        {
          "output_type": "stream",
          "name": "stdout",
          "text": [
            "--2023-02-26 15:42:01--  http://wget/\n",
            "Resolving wget (wget)... failed: Name or service not known.\n",
            "wget: unable to resolve host address ‘wget’\n",
            "--2023-02-26 15:42:01--  https://raw.githubusercontent.com/IBM/coursera/master/rklib.py\n",
            "Resolving raw.githubusercontent.com (raw.githubusercontent.com)... 185.199.110.133, 185.199.108.133, 185.199.111.133, ...\n",
            "Connecting to raw.githubusercontent.com (raw.githubusercontent.com)|185.199.110.133|:443... connected.\n",
            "HTTP request sent, awaiting response... 200 OK\n",
            "Length: 2540 (2.5K) [text/plain]\n",
            "Saving to: ‘rklib.py’\n",
            "\n",
            "rklib.py            100%[===================>]   2.48K  --.-KB/s    in 0s      \n",
            "\n",
            "2023-02-26 15:42:01 (35.8 MB/s) - ‘rklib.py’ saved [2540/2540]\n",
            "\n",
            "FINISHED --2023-02-26 15:42:01--\n",
            "Total wall clock time: 0.3s\n",
            "Downloaded: 1 files, 2.5K in 0s (35.8 MB/s)\n"
          ]
        }
      ]
    },
    {
      "metadata": {
        "id": "HwT0UVsH-q_f"
      },
      "cell_type": "code",
      "source": [
        "from rklib import zipit\n",
        "zipit('a2_m4.json.zip','a2_m4.json')"
      ],
      "execution_count": 24,
      "outputs": []
    },
    {
      "metadata": {
        "id": "DbQTt5NW-q_f"
      },
      "cell_type": "code",
      "source": [
        "!base64 a2_m4.json.zip > a2_m4.json.zip.base64"
      ],
      "execution_count": 25,
      "outputs": []
    },
    {
      "metadata": {
        "colab": {
          "base_uri": "https://localhost:8080/"
        },
        "id": "QP_Ol7hS-q_g",
        "outputId": "01b99618-ec0a-42d6-dbec-8877b657655a"
      },
      "cell_type": "code",
      "source": [
        "from rklib import submit\n",
        "key = \"-fBiYHYDEeiR4QqiFhAvkA\"\n",
        "part = \"IjtJk\"\n",
        "email = \"mdanasmondol43@gmail.com\"\n",
        "submission_token = \"qwM1oLGQ0RcTu6qn\" # (have a look here if you need more information on how to obtain the token https://youtu.be/GcDo0Rwe06U?t=276)\n",
        "\n",
        "with open('a2_m4.json.zip.base64', 'r') as myfile:\n",
        "    data=myfile.read()\n",
        "submit(email, submission_token, key, part, [part], data)"
      ],
      "execution_count": 26,
      "outputs": [
        {
          "output_type": "stream",
          "name": "stdout",
          "text": [
            "Submission successful, please check on the coursera grader page for the status\n",
            "-------------------------\n",
            "{\"elements\":[{\"itemId\":\"B8wXV\",\"id\":\"f_F-qCtuEei_fRLwaVDk3g~B8wXV~Mg7nWLXsEe2G-w53gmJmRw\",\"courseId\":\"f_F-qCtuEei_fRLwaVDk3g\"}],\"paging\":{},\"linked\":{}}\n",
            "-------------------------\n"
          ]
        }
      ]
    },
    {
      "metadata": {
        "id": "TEI04DMM-q_g"
      },
      "cell_type": "code",
      "source": [],
      "execution_count": null,
      "outputs": []
    }
  ],
  "metadata": {
    "kernelspec": {
      "name": "python3",
      "display_name": "Python 3.9",
      "language": "python"
    },
    "language_info": {
      "name": "python",
      "version": "3.9.13",
      "mimetype": "text/x-python",
      "codemirror_mode": {
        "name": "ipython",
        "version": 3
      },
      "pygments_lexer": "ipython3",
      "nbconvert_exporter": "python",
      "file_extension": ".py"
    },
    "colab": {
      "provenance": []
    }
  },
  "nbformat": 4,
  "nbformat_minor": 0
}